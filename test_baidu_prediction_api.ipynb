{
 "cells": [
  {
   "cell_type": "code",
   "execution_count": 67,
   "metadata": {
    "collapsed": false
   },
   "outputs": [],
   "source": [
    "import pandas as pd\n",
    "import numpy as np\n",
    "\n",
    "import matplotlib\n",
    "import matplotlib.pyplot as plt"
   ]
  },
  {
   "cell_type": "code",
   "execution_count": 68,
   "metadata": {
    "collapsed": true
   },
   "outputs": [],
   "source": [
    "df = pd.read_csv('eggs.csv')"
   ]
  },
  {
   "cell_type": "code",
   "execution_count": 69,
   "metadata": {
    "collapsed": false
   },
   "outputs": [
    {
     "data": {
      "text/plain": [
       "Index(['word', 'price', 'pv', 'show', 'showRate', 'click', 'cost', 'CPC',\n",
       "       'rank', 'recBid'],\n",
       "      dtype='object')"
      ]
     },
     "execution_count": 69,
     "metadata": {},
     "output_type": "execute_result"
    }
   ],
   "source": [
    "df.columns"
   ]
  },
  {
   "cell_type": "code",
   "execution_count": 70,
   "metadata": {
    "collapsed": false
   },
   "outputs": [
    {
     "data": {
      "text/html": [
       "<div>\n",
       "<table border=\"1\" class=\"dataframe\">\n",
       "  <thead>\n",
       "    <tr style=\"text-align: right;\">\n",
       "      <th></th>\n",
       "      <th>word</th>\n",
       "      <th>price</th>\n",
       "      <th>pv</th>\n",
       "      <th>show</th>\n",
       "      <th>showRate</th>\n",
       "      <th>click</th>\n",
       "      <th>cost</th>\n",
       "      <th>CPC</th>\n",
       "      <th>rank</th>\n",
       "      <th>recBid</th>\n",
       "    </tr>\n",
       "  </thead>\n",
       "  <tbody>\n",
       "    <tr>\n",
       "      <th>0</th>\n",
       "      <td>导航</td>\n",
       "      <td>0.3</td>\n",
       "      <td>27598</td>\n",
       "      <td>23036</td>\n",
       "      <td>0.38</td>\n",
       "      <td>3801.06</td>\n",
       "      <td>581.36</td>\n",
       "      <td>0.15</td>\n",
       "      <td>2</td>\n",
       "      <td>0.3</td>\n",
       "    </tr>\n",
       "    <tr>\n",
       "      <th>1</th>\n",
       "      <td>导航</td>\n",
       "      <td>0.4</td>\n",
       "      <td>27598</td>\n",
       "      <td>29406</td>\n",
       "      <td>0.49</td>\n",
       "      <td>4890.13</td>\n",
       "      <td>977.73</td>\n",
       "      <td>0.20</td>\n",
       "      <td>2</td>\n",
       "      <td>0.3</td>\n",
       "    </tr>\n",
       "    <tr>\n",
       "      <th>2</th>\n",
       "      <td>导航</td>\n",
       "      <td>0.5</td>\n",
       "      <td>27598</td>\n",
       "      <td>34556</td>\n",
       "      <td>0.58</td>\n",
       "      <td>5812.93</td>\n",
       "      <td>1413.51</td>\n",
       "      <td>0.24</td>\n",
       "      <td>1</td>\n",
       "      <td>0.3</td>\n",
       "    </tr>\n",
       "    <tr>\n",
       "      <th>3</th>\n",
       "      <td>导航</td>\n",
       "      <td>0.6</td>\n",
       "      <td>27598</td>\n",
       "      <td>38464</td>\n",
       "      <td>0.65</td>\n",
       "      <td>6538.30</td>\n",
       "      <td>1837.25</td>\n",
       "      <td>0.28</td>\n",
       "      <td>1</td>\n",
       "      <td>0.3</td>\n",
       "    </tr>\n",
       "    <tr>\n",
       "      <th>4</th>\n",
       "      <td>导航</td>\n",
       "      <td>0.7</td>\n",
       "      <td>27598</td>\n",
       "      <td>41420</td>\n",
       "      <td>0.70</td>\n",
       "      <td>7118.74</td>\n",
       "      <td>2226.05</td>\n",
       "      <td>0.31</td>\n",
       "      <td>1</td>\n",
       "      <td>0.0</td>\n",
       "    </tr>\n",
       "    <tr>\n",
       "      <th>5</th>\n",
       "      <td>导航</td>\n",
       "      <td>0.8</td>\n",
       "      <td>27598</td>\n",
       "      <td>43772</td>\n",
       "      <td>0.74</td>\n",
       "      <td>7595.86</td>\n",
       "      <td>2590.85</td>\n",
       "      <td>0.34</td>\n",
       "      <td>1</td>\n",
       "      <td>0.3</td>\n",
       "    </tr>\n",
       "    <tr>\n",
       "      <th>6</th>\n",
       "      <td>导航</td>\n",
       "      <td>0.9</td>\n",
       "      <td>27598</td>\n",
       "      <td>45713</td>\n",
       "      <td>0.76</td>\n",
       "      <td>8009.52</td>\n",
       "      <td>2942.73</td>\n",
       "      <td>0.37</td>\n",
       "      <td>1</td>\n",
       "      <td>0.3</td>\n",
       "    </tr>\n",
       "    <tr>\n",
       "      <th>7</th>\n",
       "      <td>导航</td>\n",
       "      <td>1.0</td>\n",
       "      <td>27598</td>\n",
       "      <td>47331</td>\n",
       "      <td>0.79</td>\n",
       "      <td>8357.39</td>\n",
       "      <td>3278.71</td>\n",
       "      <td>0.39</td>\n",
       "      <td>1</td>\n",
       "      <td>0.3</td>\n",
       "    </tr>\n",
       "    <tr>\n",
       "      <th>8</th>\n",
       "      <td>导航</td>\n",
       "      <td>1.1</td>\n",
       "      <td>27598</td>\n",
       "      <td>48739</td>\n",
       "      <td>0.82</td>\n",
       "      <td>8671.86</td>\n",
       "      <td>3617.02</td>\n",
       "      <td>0.42</td>\n",
       "      <td>1</td>\n",
       "      <td>0.3</td>\n",
       "    </tr>\n",
       "    <tr>\n",
       "      <th>9</th>\n",
       "      <td>导航</td>\n",
       "      <td>1.2</td>\n",
       "      <td>27598</td>\n",
       "      <td>49870</td>\n",
       "      <td>0.84</td>\n",
       "      <td>8927.34</td>\n",
       "      <td>3932.71</td>\n",
       "      <td>0.44</td>\n",
       "      <td>1</td>\n",
       "      <td>0.3</td>\n",
       "    </tr>\n",
       "  </tbody>\n",
       "</table>\n",
       "</div>"
      ],
      "text/plain": [
       "  word  price     pv   show  showRate    click     cost   CPC  rank  recBid\n",
       "0   导航    0.3  27598  23036      0.38  3801.06   581.36  0.15     2     0.3\n",
       "1   导航    0.4  27598  29406      0.49  4890.13   977.73  0.20     2     0.3\n",
       "2   导航    0.5  27598  34556      0.58  5812.93  1413.51  0.24     1     0.3\n",
       "3   导航    0.6  27598  38464      0.65  6538.30  1837.25  0.28     1     0.3\n",
       "4   导航    0.7  27598  41420      0.70  7118.74  2226.05  0.31     1     0.0\n",
       "5   导航    0.8  27598  43772      0.74  7595.86  2590.85  0.34     1     0.3\n",
       "6   导航    0.9  27598  45713      0.76  8009.52  2942.73  0.37     1     0.3\n",
       "7   导航    1.0  27598  47331      0.79  8357.39  3278.71  0.39     1     0.3\n",
       "8   导航    1.1  27598  48739      0.82  8671.86  3617.02  0.42     1     0.3\n",
       "9   导航    1.2  27598  49870      0.84  8927.34  3932.71  0.44     1     0.3"
      ]
     },
     "execution_count": 70,
     "metadata": {},
     "output_type": "execute_result"
    }
   ],
   "source": [
    "#df = df[df.word == '导航']\n",
    "#df = df['show']\n",
    "df.head(10)"
   ]
  },
  {
   "cell_type": "code",
   "execution_count": 71,
   "metadata": {
    "collapsed": false
   },
   "outputs": [
    {
     "name": "stdout",
     "output_type": "stream",
     "text": [
      "导航\n"
     ]
    },
    {
     "data": {
      "image/png": "[encoded data removed]",
      "text/plain": [
       "<matplotlib.figure.Figure at 0x107b22438>"
      ]
     },
     "metadata": {},
     "output_type": "display_data"
    },
    {
     "name": "stdout",
     "output_type": "stream",
     "text": [
      "导航地图\n"
     ]
    },
    {
     "data": {
      "image/png": "[encoded data removed]",
      "text/plain": [
       "<matplotlib.figure.Figure at 0x107610ef0>"
      ]
     },
     "metadata": {},
     "output_type": "display_data"
    },
    {
     "name": "stdout",
     "output_type": "stream",
     "text": [
      "导航系统下载\n"
     ]
    },
    {
     "data": {
      "image/png": "[encoded data removed]",
      "text/plain": [
       "<matplotlib.figure.Figure at 0x1076ff2b0>"
      ]
     },
     "metadata": {},
     "output_type": "display_data"
    },
    {
     "name": "stdout",
     "output_type": "stream",
     "text": [
      "手机导航\n"
     ]
    },
    {
     "data": {
      "image/png": "[encoded data removed]",
      "text/plain": [
       "<matplotlib.figure.Figure at 0x107e7b9e8>"
      ]
     },
     "metadata": {},
     "output_type": "display_data"
    },
    {
     "name": "stdout",
     "output_type": "stream",
     "text": [
      "语音导航\n"
     ]
    },
    {
     "data": {
      "image/png": "[encoded data removed]",
      "text/plain": [
       "<matplotlib.figure.Figure at 0x107b76b00>"
      ]
     },
     "metadata": {},
     "output_type": "display_data"
    }
   ],
   "source": [
    "words = ['导航', '导航地图', '导航系统下载', '手机导航', '语音导航']\n",
    "\n",
    "for word in words:\n",
    "    print(word)\n",
    "    new = df[df.word == word]\n",
    "    \n",
    "    plt.subplot(211)\n",
    "    plt.xlabel('price')\n",
    "    plt.ylabel('cpc')\n",
    "    plt.plot(new['price'], new['CPC'], 'ro')\n",
    "    \n",
    "    plt.subplot(212)\n",
    "    plt.xlabel('price')\n",
    "    plt.ylabel('click')\n",
    "    plt.plot(new['price'], new['showRate'], 'bo')\n",
    "    #plt.plot(df['price'], df['cost'], 'ro')\n",
    "    #plt.plot(df['show'])\n",
    "    plt.show()"
   ]
  },
  {
   "cell_type": "code",
   "execution_count": null,
   "metadata": {
    "collapsed": true
   },
   "outputs": [],
   "source": []
  }
 ],
 "metadata": {
  "kernelspec": {
   "display_name": "Python 3",
   "language": "python",
   "name": "python3"
  },
  "language_info": {
   "codemirror_mode": {
    "name": "ipython",
    "version": 3
   },
   "file_extension": ".py",
   "mimetype": "text/x-python",
   "name": "python",
   "nbconvert_exporter": "python",
   "pygments_lexer": "ipython3",
   "version": "3.5.2"
  }
 },
 "nbformat": 4,
 "nbformat_minor": 2
}
